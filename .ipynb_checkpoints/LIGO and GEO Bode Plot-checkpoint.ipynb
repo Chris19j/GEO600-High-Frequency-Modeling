{
 "cells": [
  {
   "cell_type": "markdown",
   "id": "3b4db5d3-e317-433e-973c-4564737f6940",
   "metadata": {
    "jp-MarkdownHeadingCollapsed": true,
    "tags": []
   },
   "source": [
    "# Imports and Constants:"
   ]
  },
  {
   "cell_type": "code",
   "execution_count": 1,
   "id": "1de7449a-5246-45cd-be81-a3bbb6a46123",
   "metadata": {},
   "outputs": [
    {
     "ename": "FileNotFoundError",
     "evalue": "[Errno 2] No such file or directory: 'GEO_F_norm_100000_05.npz'",
     "output_type": "error",
     "traceback": [
      "\u001b[0;31m---------------------------------------------------------------------------\u001b[0m",
      "\u001b[0;31mFileNotFoundError\u001b[0m                         Traceback (most recent call last)",
      "Input \u001b[0;32mIn [1]\u001b[0m, in \u001b[0;36m<cell line: 9>\u001b[0;34m()\u001b[0m\n\u001b[1;32m      7\u001b[0m \u001b[38;5;28;01mimport\u001b[39;00m \u001b[38;5;21;01mscienceplots\u001b[39;00m\n\u001b[1;32m      8\u001b[0m \u001b[38;5;28;01mfrom\u001b[39;00m \u001b[38;5;21;01mcycler\u001b[39;00m \u001b[38;5;28;01mimport\u001b[39;00m cycler\n\u001b[0;32m----> 9\u001b[0m data \u001b[38;5;241m=\u001b[39m \u001b[43mnp\u001b[49m\u001b[38;5;241;43m.\u001b[39;49m\u001b[43mload\u001b[49m\u001b[43m(\u001b[49m\u001b[38;5;124;43m'\u001b[39;49m\u001b[38;5;124;43mGEO_F_norm_100000_05.npz\u001b[39;49m\u001b[38;5;124;43m'\u001b[39;49m\u001b[43m)\u001b[49m\n\u001b[1;32m     10\u001b[0m data2 \u001b[38;5;241m=\u001b[39m np\u001b[38;5;241m.\u001b[39mload(\u001b[38;5;124m'\u001b[39m\u001b[38;5;124mGEO_F_rms_100000_05.npz\u001b[39m\u001b[38;5;124m'\u001b[39m)\n\u001b[1;32m     11\u001b[0m data3 \u001b[38;5;241m=\u001b[39m np\u001b[38;5;241m.\u001b[39mload(\u001b[38;5;124m'\u001b[39m\u001b[38;5;124mLIGO_F_rms_100000_05.npz\u001b[39m\u001b[38;5;124m'\u001b[39m)\n",
      "File \u001b[0;32m~/opt/anaconda3/lib/python3.9/site-packages/numpy/lib/npyio.py:427\u001b[0m, in \u001b[0;36mload\u001b[0;34m(file, mmap_mode, allow_pickle, fix_imports, encoding, max_header_size)\u001b[0m\n\u001b[1;32m    425\u001b[0m     own_fid \u001b[38;5;241m=\u001b[39m \u001b[38;5;28;01mFalse\u001b[39;00m\n\u001b[1;32m    426\u001b[0m \u001b[38;5;28;01melse\u001b[39;00m:\n\u001b[0;32m--> 427\u001b[0m     fid \u001b[38;5;241m=\u001b[39m stack\u001b[38;5;241m.\u001b[39menter_context(\u001b[38;5;28;43mopen\u001b[39;49m\u001b[43m(\u001b[49m\u001b[43mos_fspath\u001b[49m\u001b[43m(\u001b[49m\u001b[43mfile\u001b[49m\u001b[43m)\u001b[49m\u001b[43m,\u001b[49m\u001b[43m \u001b[49m\u001b[38;5;124;43m\"\u001b[39;49m\u001b[38;5;124;43mrb\u001b[39;49m\u001b[38;5;124;43m\"\u001b[39;49m\u001b[43m)\u001b[49m)\n\u001b[1;32m    428\u001b[0m     own_fid \u001b[38;5;241m=\u001b[39m \u001b[38;5;28;01mTrue\u001b[39;00m\n\u001b[1;32m    430\u001b[0m \u001b[38;5;66;03m# Code to distinguish from NumPy binary files and pickles.\u001b[39;00m\n",
      "\u001b[0;31mFileNotFoundError\u001b[0m: [Errno 2] No such file or directory: 'GEO_F_norm_100000_05.npz'"
     ]
    }
   ],
   "source": [
    "import GEOMODEL as GEOMODEL\n",
    "import finesse\n",
    "finesse.configure(plotting=True)\n",
    "import numpy as np\n",
    "import matplotlib.pyplot as plt\n",
    "import matplotlib\n",
    "import scienceplots\n",
    "from cycler import cycler\n",
    "data = np.load('GEO_F_norm_100000_05.npz')\n",
    "data2 = np.load('GEO_F_rms_100000_05.npz')\n",
    "data3 = np.load('LIGO_F_rms_100000_05.npz')\n",
    "data4 = np.load('LIGO_F_norm_100000_05.npz')\n",
    "plt.style.use(['science','ieee','notebook'])\n",
    "plt.rcParams.update({'figure.dpi': 150})\n",
    "plt.rcParams['axes.prop_cycle'] = cycler('color', ['#1F77B4', '#FF7F0E', '#2CA02C', '#D62728', '#9467BD', '#8C564B', '#E377C2', '#7F7F7F', '#BCBD22', '#17BECF', '#9A0EEA'])\n",
    "plt.rcParams.update({'font.serif': 'serif', 'font.family' : 'DeJavu Serif'})\n",
    "plt.rcParams.update({\n",
    "        'font.size': 21,\n",
    "        'axes.labelsize': 21,\n",
    "        'xtick.labelsize': 18,\n",
    "        'ytick.labelsize': 18,\n",
    "        'legend.fontsize': 16\n",
    "    })"
   ]
  },
  {
   "cell_type": "markdown",
   "id": "62567509-c571-4bb1-9f96-2cdb0d54239d",
   "metadata": {
    "jp-MarkdownHeadingCollapsed": true,
    "tags": []
   },
   "source": [
    "# aLIGO Model:"
   ]
  },
  {
   "cell_type": "code",
   "execution_count": null,
   "id": "e4b3b0dc-bb45-403c-bb86-01a507191a6a",
   "metadata": {},
   "outputs": [],
   "source": [
    "kat = finesse.Model()\n",
    "kat.parse(\n",
    "    \"\"\"\n",
    "    ###########################################################################\n",
    "    ###   Variables\n",
    "    ###########################################################################\n",
    "    var Larm 3995\n",
    "    var Mtm  40\n",
    "    var itmT 0.014\n",
    "    var lmichx 4.5\n",
    "    var lmichy 4.45\n",
    "\n",
    "    ###########################################################################\n",
    "    ###   Input optics\n",
    "    ###########################################################################\n",
    "    l L0 125\n",
    "    s l_in L0.p1 prm.p1\n",
    "    # Power recycling mirror\n",
    "    m prm T=0.03 L=37.5u phi=90\n",
    "    s prc prm.p2 bs.p1 L=53\n",
    "\n",
    "\n",
    "    # Central beamsplitter\n",
    "    bs bs T=0.5 L=0 alpha=45\n",
    "\n",
    "    ###########################################################################\n",
    "    ###   X arm\n",
    "    ###########################################################################\n",
    "    s lx bs.p3 itmx.p1 L=lmichx\n",
    "    m itmx T=itmT L=37.5u phi=90\n",
    "    s LX itmx.p2 etmx.p1 L=Larm\n",
    "    m etmx T=5u L=37.5u phi=89.999875\n",
    "\n",
    "    #pendulum itmx_sus itmx.mech mass=Mtm fz=1 Qz=1M\n",
    "    #pendulum etmx_sus etmx.mech mass=Mtm fz=1 Qz=1M\n",
    "\n",
    "    ###########################################################################\n",
    "    ###   Y arm\n",
    "    ###########################################################################\n",
    "    s ly bs.p2 itmy.p1 L=lmichy\n",
    "    m itmy T=itmT L=37.5u phi=0\n",
    "    s LY itmy.p2 etmy.p1 L=Larm\n",
    "    m etmy T=5u L=37.5u phi=0.000125\n",
    "\n",
    "    #pendulum itmy_sus itmy.mech mass=Mtm fz=1 Qz=1M\n",
    "    #pendulum etmy_sus etmy.mech mass=Mtm fz=1 Qz=1M\n",
    "\n",
    "    ###########################################################################\n",
    "    ###   Output and squeezing\n",
    "    ###########################################################################\n",
    "    s src bs.p4 srm.p1 L=50.525\n",
    "    m srm T=0.2 L=37.5u phi=-90\n",
    "\n",
    "    # A squeezed source could be injected into the dark port\n",
    "    # sq sq1 db=0 angle=90\n",
    "    # s lsqz sq1.p1 srm.p2\n",
    "\n",
    "    # Differentially modulate the arm lengths\n",
    "    fsig(1)\n",
    "    # sgen darmx LX.h\n",
    "    # sgen darmy LY.h phase=180\n",
    "    \n",
    "    # Output the full quantum noise limited sensitivity\n",
    "    # qnoised NSR_with_RP srm.p2.o nsr=True\n",
    "    # Output just the shot noise limited sensitivity\n",
    "    # qshot NSR_without_RP srm.p2.o nsr=True\n",
    "\n",
    "    # We could also display the quantum noise and the signal\n",
    "    # separately by uncommenting these two lines.\n",
    "    # qnoised noise srm.p2.o\n",
    "    # pd1 signal srm.p2.o f=fsig\n",
    "    \"\"\"\n",
    ")"
   ]
  },
  {
   "cell_type": "markdown",
   "id": "ff517ee0-5d63-4325-9c33-11c04ce33dc9",
   "metadata": {
    "jp-MarkdownHeadingCollapsed": true,
    "tags": []
   },
   "source": [
    "# Transfer Function:"
   ]
  },
  {
   "cell_type": "code",
   "execution_count": null,
   "id": "c1a6f266-a340-4324-a406-ca13f5ca2f9a",
   "metadata": {},
   "outputs": [],
   "source": [
    "def compute_tF(srm_phi=''):\n",
    "    # Create new adjusted model\n",
    "    new_model = GEOMODEL.adjust_model(srm_phi=srm_phi, sq_db=0)\n",
    "    \n",
    "    # Create Simulation that injects a gravitational wave over a range of frequencies of GEO model to caclulate transfer function\n",
    "    new_sim = new_model.deepcopy()\n",
    "    new_sim.parse(\n",
    "        f\"\"\"\n",
    "        dof strain sy.dofs.h -1 sy2.dofs.h -1 sx.dofs.h +1 sx2.dofs.h +1\n",
    "        readout_dc trans_sb optical_node=FI.p3.o\n",
    "        frequency_response(logspace(0,5,1000), [strain.AC.i], [trans_sb.DC.o])\n",
    "        \"\"\")\n",
    "    # Run the new Simulation\n",
    "    new_sim_run = new_sim.run()\n",
    "    transferFunction = np.abs(new_sim_run['trans_sb.DC.o','strain.AC.i']) #* (data2['F_rms']/data['Fp_norm'])\n",
    "    \n",
    "    # Create Simulation that injects a gravitational wave over a range of frequencies of aLIGO model to caclulate transfer function\n",
    "    new_sim2 = kat.deepcopy()\n",
    "    new_sim2.srm.phi = srm_phi\n",
    "    new_sim2.parse(\n",
    "        f\"\"\"\n",
    "        dof strain2 LX.dofs.h +1 LY.dofs.h -1\n",
    "        readout_dc trans_sb2 optical_node=srm.p2.o\n",
    "        frequency_response(logspace(0,5,1000), [strain2.AC.i], [trans_sb2.DC.o])\n",
    "        \"\"\")\n",
    "    \n",
    "    # Run the new Simulation\n",
    "    new_sim_run2 = new_sim2.run()\n",
    "    transferFunction2 = np.abs(new_sim_run2['trans_sb2.DC.o','strain2.AC.i']) #* (data3['F_rms']/data4['F_norm'])\n",
    "    \n",
    "    # Create Simulation that injects a gravitational wave over a range of frequencies of GEO model to caclulate quantum noise\n",
    "    new_sim3 = new_model.deepcopy()\n",
    "    new_sim3.parse(\n",
    "        f\"\"\"\n",
    "        sgen strain1 sy.h -1\n",
    "        sgen strain2 sy2.h -1\n",
    "        sgen strain3 sx.h +1\n",
    "        sgen strain4 sx2.h +1\n",
    "        \n",
    "        # Create noise detectors\n",
    "        qnoised Quantum_noiseGEO FI.p3.o nsr=false\n",
    "        \n",
    "        # Sweep across frequencies\n",
    "        xaxis(fsig.f, log, 1, 100000, 999)\n",
    "        \"\"\")\n",
    "    # Run the new Simulation\n",
    "    new_sim_run3 = new_sim3.run()\n",
    "    quantum_noiseGEO = np.abs(new_sim_run3['Quantum_noiseGEO'])\n",
    "    \n",
    "    # Create Simulation that injects a gravitational wave over a range of frequencies of aLIGO model to caclulate quantum noise\n",
    "    new_sim4 = kat.deepcopy()\n",
    "    new_sim4.parse(\n",
    "        f\"\"\"\n",
    "        sgen strainx LX.h +1\n",
    "        sgen strainy LY.h -1\n",
    "        \n",
    "        # Create noise detectors\n",
    "        qnoised Quantum_noiseLIGO srm.p2.o nsr=false\n",
    "        \n",
    "        # Sweep across frequencies\n",
    "        xaxis(fsig.f, log, 1, 100000, 999)\n",
    "        \"\"\")\n",
    "    # Run the new Simulation\n",
    "    new_sim_run4 = new_sim4.run()\n",
    "    quantum_noiseLIGO = np.abs(new_sim_run4['Quantum_noiseLIGO'])\n",
    "    \n",
    "    # Return abs value of array of new data\n",
    "    return transferFunction, transferFunction2, quantum_noiseGEO, quantum_noiseLIGO"
   ]
  },
  {
   "cell_type": "markdown",
   "id": "da793ee5-edd3-4377-8265-cfe277fe4c87",
   "metadata": {
    "jp-MarkdownHeadingCollapsed": true,
    "tags": []
   },
   "source": [
    "# Graphing Code:"
   ]
  },
  {
   "cell_type": "code",
   "execution_count": null,
   "id": "6cf982ac-f92a-455f-a66c-a68df05c087b",
   "metadata": {},
   "outputs": [],
   "source": [
    "def plot_tF(tF_List, tFLabelsList, correction_list, colors, dashes, title):\n",
    "    # Plot the transfer functions by looping through the input TF list and plotting every array value\n",
    "    plt.rcParams.update({'font.serif': 'serif', 'font.family' : 'DeJavu Serif'}) \n",
    "    x_values = np.logspace(0,5,1000)\n",
    "    plt.figure(figsize=(10, 8))\n",
    "    plt.rcParams.update({'font.serif': 'serif', 'font.family' : 'DeJavu Serif'}) \n",
    "    for k, tF in enumerate(tF_List):\n",
    "        plt.plot(x_values, tF*correction_list[k], label=tFLabelsList[k], color=colors[k], ls=dashes[k])\n",
    "    plt.xscale('log')\n",
    "    plt.yscale('log')\n",
    "    plt.grid(True, which='major', linestyle='-', linewidth=0.75)\n",
    "    plt.grid(False, which='minor')  # Disable grid lines for minor ticks\n",
    "    plt.xlim(1e0,1e5)\n",
    "    # plt.ylim(1e8,1e15)\n",
    "    plt.xlabel('Frequency (Hz)')\n",
    "    plt.ylabel('Magnitude (W)')\n",
    "    plt.legend(frameon=True, ncols=2, loc='lower left', title=f'{title} detuning angles')\n",
    "    plt.tick_params(which='both',  direction = 'out', top=False, left=True, right=False, bottom=True)\n",
    "    # plt.savefig(f'{title} Bode Plot.pdf',format='pdf', dpi=300)\n",
    "    plt.show()\n",
    "    \n",
    "    return"
   ]
  },
  {
   "cell_type": "markdown",
   "id": "62949663-ce4e-4e1e-acff-5f70a10cb3c8",
   "metadata": {
    "jp-MarkdownHeadingCollapsed": true,
    "tags": []
   },
   "source": [
    "# Initialize and Create Bode Plots:"
   ]
  },
  {
   "cell_type": "code",
   "execution_count": null,
   "id": "6f5b82f6-fd92-4bd1-b1bd-bd3281b5a13c",
   "metadata": {},
   "outputs": [],
   "source": [
    "# Choose MSR detunings:\n",
    "srm_phi_GEO = [0,15,30,45,60,75,90] #0,15,30,45,60,75,90\n",
    "srm_phi_LIGO = [1,15,30,45,60,75,90] #1,15,30,45,60,75,90\n",
    "\n",
    "# Calculate GEO600 transfer function sensitivies\n",
    "tF_List1 = []\n",
    "tFLabelsList1 = ['Tuned']\n",
    "for phi in srm_phi_GEO:\n",
    "    tF_List1.append(compute_tF(srm_phi=phi)[0])\n",
    "    tFLabelsList1.append(f'$\\phi={phi}$')\n",
    "tFLabelsList1.pop(1)\n",
    "\n",
    "# Calculate aLIGO transfer function sensitivies\n",
    "tF_List2 = []\n",
    "tFLabelsList2 = []\n",
    "for phi in srm_phi_LIGO:\n",
    "    tF_List2.append(compute_tF(srm_phi=phi)[1])\n",
    "    tFLabelsList2.append(f'$\\phi={phi}$')\n",
    "tFLabelsList2.pop(-1)\n",
    "tFLabelsList2.append('Tuned')\n",
    "\n",
    "# Calculate GEO600 quantum noise sensitivies\n",
    "quantumNoiseList = []\n",
    "quantumNoiseLabels = []\n",
    "for phi in srm_phi_GEO:\n",
    "    quantumNoiseList.append(compute_tF(srm_phi=phi)[2])\n",
    "    quantumNoiseLabels.append(f'$\\phi={phi}$')\n",
    "    \n",
    "# Calculate aLIGO quantum noise sensitivies\n",
    "quantumNoiseList2 = []\n",
    "quantumNoiseLabels2 = []\n",
    "for phi in srm_phi_LIGO:\n",
    "    quantumNoiseList2.append(compute_tF(srm_phi=phi)[3])\n",
    "    quantumNoiseLabels2.append(f'$\\phi={phi}$')"
   ]
  },
  {
   "cell_type": "code",
   "execution_count": null,
   "id": "13f0cc51-55a3-49ae-8ae9-09cb5d70a9fe",
   "metadata": {},
   "outputs": [],
   "source": [
    "# Calculate Finesse scaling corrections for each detuning curve for GEO and aLIGO:\n",
    "\n",
    "# For GEO:\n",
    "tuned_QN = quantumNoiseList[0][-100]\n",
    "correction_list = []\n",
    "for i in range(len(quantumNoiseList)):\n",
    "    correction_list.append(tuned_QN/quantumNoiseList[i][-100])\n",
    "\n",
    "# For aLIGO:\n",
    "tuned_QN2 = quantumNoiseList2[0][-100]\n",
    "correction_list2 = []\n",
    "for i in range(len(quantumNoiseList2)):\n",
    "    correction_list2.append(tuned_QN2/quantumNoiseList2[i][-100])\n",
    "\n",
    "# Calculate Finesse NSR curves:\n",
    "GEO_nsr = []\n",
    "aLIGO_nsr = []\n",
    "oneList = []\n",
    "for i in range(len(tF_List1)):\n",
    "    GEO_nsr.append(quantumNoiseList[i]/tF_List1[i])\n",
    "for i in range(len(tF_List2)):\n",
    "    aLIGO_nsr.append(quantumNoiseList2[i]/tF_List2[i])\n",
    "    oneList.append(1)\n"
   ]
  },
  {
   "cell_type": "markdown",
   "id": "a93186da-2e03-4d5c-9019-c21242d1b988",
   "metadata": {
    "jp-MarkdownHeadingCollapsed": true,
    "tags": []
   },
   "source": [
    "# Plot Results:"
   ]
  },
  {
   "cell_type": "code",
   "execution_count": null,
   "id": "369162ff-0b17-4df1-a980-96d708d9610d",
   "metadata": {},
   "outputs": [],
   "source": [
    "# Make colors and dash list:\n",
    "colors = ['midnightblue', '#1F77B4', '#FF7F0E', '#2CA02C', '#D62728', '#9467BD', '#8C564B', '#E377C2', '#7F7F7F', '#BCBD22', '#17BECF', '#9A0EEA', '#1F77B4', '#FF7F0E', '#2CA02C', '#D62728', '#9467BD', '#8C564B', '#E377C2', '#7F7F7F', '#BCBD22', '#17BECF', '#9A0EEA']\n",
    "dash_GEO = ['dashed','solid', 'solid', 'solid', 'solid', 'solid', 'solid']\n",
    "dash_LIGO = ['solid', 'solid', 'solid', 'solid', 'solid', 'solid', 'dashed', 'solid', 'solid', 'solid', 'solid', 'solid', 'solid', 'dashed']\n",
    "\n",
    "# Plot Transfer Functions:\n",
    "plot_tF(tF_List1, tFLabelsList1, correction_list, colors, dash_GEO, 'GEO600')\n",
    "plot_tF(tF_List2, tFLabelsList2, correction_list2, colors, dash_LIGO, 'aLIGO')\n",
    "plot_tF(aLIGO_nsr, tFLabelsList2, oneList, colors, dash_LIGO, 'aLIGO')"
   ]
  },
  {
   "cell_type": "code",
   "execution_count": null,
   "id": "62fde775-d2c2-479b-811d-2ab9996fcd93",
   "metadata": {},
   "outputs": [],
   "source": [
    "for i in range(len(srm_phi_LIGO)):\n",
    "    plt.loglog(np.logspace(1,5,1000), np.abs(quantumNoiseList2[i]), label=\"1 deg\")"
   ]
  }
 ],
 "metadata": {
  "kernelspec": {
   "display_name": "Python 3 (ipykernel)",
   "language": "python",
   "name": "python3"
  },
  "language_info": {
   "codemirror_mode": {
    "name": "ipython",
    "version": 3
   },
   "file_extension": ".py",
   "mimetype": "text/x-python",
   "name": "python",
   "nbconvert_exporter": "python",
   "pygments_lexer": "ipython3",
   "version": "3.9.12"
  }
 },
 "nbformat": 4,
 "nbformat_minor": 5
}
